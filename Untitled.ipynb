{
 "cells": [
  {
   "cell_type": "code",
   "execution_count": 10,
   "id": "a076e5bc",
   "metadata": {},
   "outputs": [],
   "source": [
    "import pandas as pd\n",
    "import numpy as np"
   ]
  },
  {
   "cell_type": "code",
   "execution_count": 14,
   "id": "dc2aac2e",
   "metadata": {},
   "outputs": [],
   "source": [
    "data = pd.read_csv('/Users/sarthaksinghgaur/iitm study/MLPp/train.csv')\n",
    "test_data = pd.read_csv('/Users/sarthaksinghgaur/iitm study/MLPp/test.csv')"
   ]
  },
  {
   "cell_type": "code",
   "execution_count": 16,
   "id": "dab20f3c",
   "metadata": {},
   "outputs": [],
   "source": [
    "data_features = data.drop(\"Crime_Category\", axis=1)\n",
    "data_labels = data['Crime_Category'].copy()"
   ]
  },
  {
   "cell_type": "code",
   "execution_count": 18,
   "id": "641c159a-80b1-4719-a7fd-793ae412aac4",
   "metadata": {},
   "outputs": [],
   "source": [
    "data_features.Victim_Age = data_features.Victim_Age.apply(lambda x: np.nan if x<0 else x)"
   ]
  },
  {
   "cell_type": "code",
   "execution_count": 20,
   "id": "11a6a465-88a4-44fd-8c9e-bf095e600fa6",
   "metadata": {},
   "outputs": [],
   "source": [
    "data_features.Victim_Sex = data_features.Victim_Sex.apply(lambda x: np.nan if x not in [\"M\",\"F\",\"X\"] else x)"
   ]
  },
  {
   "cell_type": "code",
   "execution_count": 22,
   "id": "ecbac11b-4abb-4e00-a888-c1245fd722f7",
   "metadata": {},
   "outputs": [],
   "source": [
    "data_features.Date_Reported = pd.to_datetime(data_features.Date_Reported, format = '%m/%d/%Y %I:%M:%S %p')\n",
    "data_features.Date_Occurred = pd.to_datetime(data_features.Date_Occurred, format = '%m/%d/%Y %I:%M:%S %p')"
   ]
  },
  {
   "cell_type": "code",
   "execution_count": 24,
   "id": "89beb970-d6d1-4d8c-b8ef-3d9a4f47712e",
   "metadata": {},
   "outputs": [],
   "source": [
    "data_features['Reported_Year'] = data_features.Date_Reported.dt.year\n",
    "data_features['Reported_Month'] = data_features.Date_Reported.dt.month\n",
    "data_features['Reported_Day'] = data_features.Date_Reported.dt.day\n",
    "data_features['Reported_DayOfWeek'] = data_features.Date_Reported.dt.dayofweek\n",
    "\n",
    "data_features['Occurred_Year'] = data_features.Date_Occurred.dt.year\n",
    "data_features['Occurred_Month'] = data_features.Date_Occurred.dt.month\n",
    "data_features['Occurred_Day'] = data_features.Date_Occurred.dt.day\n",
    "data_features['Occurred_DayOfWeek'] = data_features.Date_Occurred.dt.dayofweek"
   ]
  },
  {
   "cell_type": "code",
   "execution_count": 26,
   "id": "6ac90ed1-fcca-4c70-9b86-abd5e12f514c",
   "metadata": {},
   "outputs": [],
   "source": [
    "data_features.Time_Occurred = data_features.Time_Occurred.astype(int).astype(str).str.zfill(4)\n",
    "data_features['Occurred_Hour'] = data_features.Time_Occurred.str.slice(0,2).astype(int)\n",
    "data_features['Occurred_Minute'] = data_features.Time_Occurred.str.slice(2,4).astype(int)"
   ]
  },
  {
   "cell_type": "code",
   "execution_count": 28,
   "id": "013b74c6-bb66-4201-90c8-4a70634fa51e",
   "metadata": {},
   "outputs": [],
   "source": [
    "data_features.drop(columns=['Cross_Street','Date_Reported','Date_Occurred','Time_Occurred','Area_Name','Status_Description','Premise_Description','Weapon_Description'],inplace = True)"
   ]
  },
  {
   "cell_type": "code",
   "execution_count": 30,
   "id": "4686f288-4d24-4818-8786-27cd9584b61f",
   "metadata": {},
   "outputs": [],
   "source": [
    "data_features.Weapon_Used_Code = data_features.Weapon_Used_Code.astype(str)\n",
    "data_features.Weapon_Used_Code.replace('nan', np.nan, inplace=True)"
   ]
  },
  {
   "cell_type": "code",
   "execution_count": null,
   "id": "e66ec4ee-28d6-486b-805d-1500b7777a69",
   "metadata": {},
   "outputs": [],
   "source": []
  }
 ],
 "metadata": {
  "kernelspec": {
   "display_name": "Python 3 (ipykernel)",
   "language": "python",
   "name": "python3"
  },
  "language_info": {
   "codemirror_mode": {
    "name": "ipython",
    "version": 3
   },
   "file_extension": ".py",
   "mimetype": "text/x-python",
   "name": "python",
   "nbconvert_exporter": "python",
   "pygments_lexer": "ipython3",
   "version": "3.11.7"
  }
 },
 "nbformat": 4,
 "nbformat_minor": 5
}
