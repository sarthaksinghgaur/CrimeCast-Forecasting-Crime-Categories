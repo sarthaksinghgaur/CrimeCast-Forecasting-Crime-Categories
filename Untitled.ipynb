{
 "cells": [
  {
   "cell_type": "code",
   "execution_count": null,
   "metadata": {},
   "outputs": [],
   "source": [
    "import pandas as pd\n",
    "import numpy as np"
   ]
  },
  {
   "cell_type": "code",
   "execution_count": null,
   "id": "dc2aac2e",
   "metadata": {},
   "outputs": [],
   "source": [
    "data = pd.read_csv('/Users/sarthaksinghgaur/iitm study/MLPp/train.csv')\n",
    "test_data = pd.read_csv('/Users/sarthaksinghgaur/iitm study/MLPp/test.csv')"
   ]
  },
  {
   "cell_type": "code",
   "execution_count": null,
   "id": "dab20f3c",
   "metadata": {},
   "outputs": [],
   "source": [
    "data_features = data.drop(\"Crime_Category\", axis=1)\n",
    "data_labels = data['Crime_Category'].copy()"
   ]
  }
 ],
 "metadata": {
  "language_info": {
   "name": "python"
  }
 },
 "nbformat": 4,
 "nbformat_minor": 5
}
