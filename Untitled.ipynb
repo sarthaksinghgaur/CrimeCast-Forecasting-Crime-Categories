{
 "cells": [
  {
   "cell_type": "code",
   "execution_count": 8,
   "id": "a076e5bc",
   "metadata": {},
   "outputs": [],
   "source": [
    "import pandas as pd\n",
    "import numpy as np\n",
    "import seaborn as sns\n",
    "import matplotlib as plt\n",
    "from sklearn.model_selection import StratifiedShuffleSplit\n",
    "from sklearn.impute import SimpleImputer\n",
    "from sklearn.preprocessing import MultiLabelBinarizer\n",
    "from sklearn.preprocessing import OneHotEncoder\n",
    "from sklearn.feature_extraction.text import TfidfVectorizer\n",
    "from sklearn.compose import ColumnTransformer\n",
    "from sklearn.model_selection import train_test_split\n",
    "from sklearn.model_selection import train_test_split\n",
    "from sklearn.ensemble import RandomForestClassifier\n",
    "from sklearn.metrics import accuracy_score\n",
    "from sklearn.pipeline import Pipeline\n",
    "from xgboost import XGBClassifier\n",
    "from sklearn.ensemble import GradientBoostingClassifier\n",
    "from sklearn.svm import SVC"
   ]
  },
  {
   "cell_type": "code",
   "execution_count": 9,
   "id": "dc2aac2e",
   "metadata": {},
   "outputs": [],
   "source": [
    "data = pd.read_csv('/Users/sarthaksinghgaur/iitm study/MLPp/train.csv')\n",
    "test_data = pd.read_csv('/Users/sarthaksinghgaur/iitm study/MLPp/test.csv')"
   ]
  },
  {
   "cell_type": "code",
   "execution_count": 10,
   "id": "dab20f3c",
   "metadata": {},
   "outputs": [],
   "source": [
    "data_features = data.drop(\"Crime_Category\", axis=1)\n",
    "data_labels = data['Crime_Category'].copy()"
   ]
  },
  {
   "cell_type": "code",
   "execution_count": 11,
   "id": "c39bcea7",
   "metadata": {},
   "outputs": [
    {
     "name": "stderr",
     "output_type": "stream",
     "text": [
      "/opt/anaconda3/lib/python3.11/site-packages/sklearn/preprocessing/_encoders.py:868: FutureWarning: `sparse` was renamed to `sparse_output` in version 1.2 and will be removed in 1.4. `sparse_output` is ignored unless you leave `sparse` to its default value.\n",
      "  warnings.warn(\n"
     ]
    },
    {
     "data": {
      "text/html": [
       "<style>#sk-container-id-2 {color: black;background-color: white;}#sk-container-id-2 pre{padding: 0;}#sk-container-id-2 div.sk-toggleable {background-color: white;}#sk-container-id-2 label.sk-toggleable__label {cursor: pointer;display: block;width: 100%;margin-bottom: 0;padding: 0.3em;box-sizing: border-box;text-align: center;}#sk-container-id-2 label.sk-toggleable__label-arrow:before {content: \"▸\";float: left;margin-right: 0.25em;color: #696969;}#sk-container-id-2 label.sk-toggleable__label-arrow:hover:before {color: black;}#sk-container-id-2 div.sk-estimator:hover label.sk-toggleable__label-arrow:before {color: black;}#sk-container-id-2 div.sk-toggleable__content {max-height: 0;max-width: 0;overflow: hidden;text-align: left;background-color: #f0f8ff;}#sk-container-id-2 div.sk-toggleable__content pre {margin: 0.2em;color: black;border-radius: 0.25em;background-color: #f0f8ff;}#sk-container-id-2 input.sk-toggleable__control:checked~div.sk-toggleable__content {max-height: 200px;max-width: 100%;overflow: auto;}#sk-container-id-2 input.sk-toggleable__control:checked~label.sk-toggleable__label-arrow:before {content: \"▾\";}#sk-container-id-2 div.sk-estimator input.sk-toggleable__control:checked~label.sk-toggleable__label {background-color: #d4ebff;}#sk-container-id-2 div.sk-label input.sk-toggleable__control:checked~label.sk-toggleable__label {background-color: #d4ebff;}#sk-container-id-2 input.sk-hidden--visually {border: 0;clip: rect(1px 1px 1px 1px);clip: rect(1px, 1px, 1px, 1px);height: 1px;margin: -1px;overflow: hidden;padding: 0;position: absolute;width: 1px;}#sk-container-id-2 div.sk-estimator {font-family: monospace;background-color: #f0f8ff;border: 1px dotted black;border-radius: 0.25em;box-sizing: border-box;margin-bottom: 0.5em;}#sk-container-id-2 div.sk-estimator:hover {background-color: #d4ebff;}#sk-container-id-2 div.sk-parallel-item::after {content: \"\";width: 100%;border-bottom: 1px solid gray;flex-grow: 1;}#sk-container-id-2 div.sk-label:hover label.sk-toggleable__label {background-color: #d4ebff;}#sk-container-id-2 div.sk-serial::before {content: \"\";position: absolute;border-left: 1px solid gray;box-sizing: border-box;top: 0;bottom: 0;left: 50%;z-index: 0;}#sk-container-id-2 div.sk-serial {display: flex;flex-direction: column;align-items: center;background-color: white;padding-right: 0.2em;padding-left: 0.2em;position: relative;}#sk-container-id-2 div.sk-item {position: relative;z-index: 1;}#sk-container-id-2 div.sk-parallel {display: flex;align-items: stretch;justify-content: center;background-color: white;position: relative;}#sk-container-id-2 div.sk-item::before, #sk-container-id-2 div.sk-parallel-item::before {content: \"\";position: absolute;border-left: 1px solid gray;box-sizing: border-box;top: 0;bottom: 0;left: 50%;z-index: -1;}#sk-container-id-2 div.sk-parallel-item {display: flex;flex-direction: column;z-index: 1;position: relative;background-color: white;}#sk-container-id-2 div.sk-parallel-item:first-child::after {align-self: flex-end;width: 50%;}#sk-container-id-2 div.sk-parallel-item:last-child::after {align-self: flex-start;width: 50%;}#sk-container-id-2 div.sk-parallel-item:only-child::after {width: 0;}#sk-container-id-2 div.sk-dashed-wrapped {border: 1px dashed gray;margin: 0 0.4em 0.5em 0.4em;box-sizing: border-box;padding-bottom: 0.4em;background-color: white;}#sk-container-id-2 div.sk-label label {font-family: monospace;font-weight: bold;display: inline-block;line-height: 1.2em;}#sk-container-id-2 div.sk-label-container {text-align: center;}#sk-container-id-2 div.sk-container {/* jupyter's `normalize.less` sets `[hidden] { display: none; }` but bootstrap.min.css set `[hidden] { display: none !important; }` so we also need the `!important` here to be able to override the default hidden behavior on the sphinx rendered scikit-learn.org. See: https://github.com/scikit-learn/scikit-learn/issues/21755 */display: inline-block !important;position: relative;}#sk-container-id-2 div.sk-text-repr-fallback {display: none;}</style><div id=\"sk-container-id-2\" class=\"sk-top-container\"><div class=\"sk-text-repr-fallback\"><pre>OneHotEncoder(handle_unknown=&#x27;ignore&#x27;, sparse=False, sparse_output=False)</pre><b>In a Jupyter environment, please rerun this cell to show the HTML representation or trust the notebook. <br />On GitHub, the HTML representation is unable to render, please try loading this page with nbviewer.org.</b></div><div class=\"sk-container\" hidden><div class=\"sk-item\"><div class=\"sk-estimator sk-toggleable\"><input class=\"sk-toggleable__control sk-hidden--visually\" id=\"sk-estimator-id-2\" type=\"checkbox\" checked><label for=\"sk-estimator-id-2\" class=\"sk-toggleable__label sk-toggleable__label-arrow\">OneHotEncoder</label><div class=\"sk-toggleable__content\"><pre>OneHotEncoder(handle_unknown=&#x27;ignore&#x27;, sparse=False, sparse_output=False)</pre></div></div></div></div></div>"
      ],
      "text/plain": [
       "OneHotEncoder(handle_unknown='ignore', sparse=False, sparse_output=False)"
      ]
     },
     "execution_count": 11,
     "metadata": {},
     "output_type": "execute_result"
    }
   ],
   "source": [
    "def data_features_preprocessor(data_features, multilabel_binarizer=None, onehot_encoder=None):\n",
    "    \n",
    "    data_features.Victim_Age = data_features.Victim_Age.apply(lambda x: np.nan if x < 0 else x)\n",
    "    data_features.Victim_Sex = data_features.Victim_Sex.apply(lambda x: np.nan if x not in [\"M\", \"F\", \"X\"] else x)\n",
    "    data_features.Date_Reported = pd.to_datetime(data_features.Date_Reported, format='%m/%d/%Y %I:%M:%S %p')\n",
    "    data_features.Date_Occurred = pd.to_datetime(data_features.Date_Occurred, format='%m/%d/%Y %I:%M:%S %p')\n",
    "    \n",
    "    data_features['Reported_Year'] = data_features.Date_Reported.dt.year\n",
    "    data_features['Reported_Month'] = data_features.Date_Reported.dt.month\n",
    "    data_features['Reported_Day'] = data_features.Date_Reported.dt.day\n",
    "    data_features['Reported_DayOfWeek'] = data_features.Date_Reported.dt.dayofweek\n",
    "    data_features['Occurred_Year'] = data_features.Date_Occurred.dt.year\n",
    "    data_features['Occurred_Month'] = data_features.Date_Occurred.dt.month\n",
    "    data_features['Occurred_Day'] = data_features.Date_Occurred.dt.day\n",
    "    data_features['Occurred_DayOfWeek'] = data_features.Date_Occurred.dt.dayofweek\n",
    "    data_features.Time_Occurred = data_features.Time_Occurred.astype(int).astype(str).str.zfill(4)\n",
    "    data_features['Occurred_Hour'] = data_features.Time_Occurred.str.slice(0, 2).astype(int)\n",
    "    data_features['Occurred_Minute'] = data_features.Time_Occurred.str.slice(2, 4).astype(int)\n",
    "    \n",
    "    data_features.drop(columns=['Cross_Street', 'Date_Reported', 'Date_Occurred', 'Time_Occurred', 'Area_Name', 'Status_Description', 'Premise_Description', 'Weapon_Description'], inplace=True)\n",
    "    \n",
    "    data_features.Weapon_Used_Code = data_features.Weapon_Used_Code.astype(str)\n",
    "    data_features.Weapon_Used_Code.replace('nan', np.nan, inplace=True)\n",
    "    imputer_constant = SimpleImputer(strategy='constant', fill_value='Unknown')\n",
    "    imputer_mode = SimpleImputer(strategy='most_frequent')\n",
    "    imputer_constant_columns = ['Modus_Operandi', 'Weapon_Used_Code', 'Victim_Sex', 'Victim_Descent']\n",
    "    imputer_mode_columns = ['Victim_Age']\n",
    "    for current_column in imputer_constant_columns:\n",
    "        data_features[[current_column]] = imputer_constant.fit_transform(data_features[[current_column]])\n",
    "    for current_column in imputer_mode_columns:\n",
    "        data_features[[current_column]] = imputer_mode.fit_transform(data_features[[current_column]])\n",
    "    \n",
    "    if multilabel_binarizer:\n",
    "        data_features['Modus_Operandi'] = data_features['Modus_Operandi'].apply(lambda x: x.split())\n",
    "        binarized_modus_operandi = multilabel_binarizer.transform(data_features['Modus_Operandi'])\n",
    "        binarized_modus_operandi_cols = ['Modus_Operandi:' + name for name in multilabel_binarizer.classes_]\n",
    "        binarized_modus_operandi_df = pd.DataFrame(binarized_modus_operandi, columns=binarized_modus_operandi_cols)\n",
    "        data_features = data_features.drop(columns='Modus_Operandi').join(binarized_modus_operandi_df)\n",
    "\n",
    "    if onehot_encoder:\n",
    "        onehotencoded_data = onehot_encoder.transform(data_features[['Location', 'Area_ID', 'Reporting_District_no', 'Victim_Sex', 'Victim_Descent', 'Premise_Code', 'Weapon_Used_Code', 'Status']])\n",
    "        onehotencoded_cols = onehot_encoder.get_feature_names_out()\n",
    "        onehotencoded_df = pd.DataFrame(onehotencoded_data, columns=onehotencoded_cols)\n",
    "        data_features = data_features.drop(columns=['Location', 'Area_ID', 'Reporting_District_no', 'Victim_Sex', 'Victim_Descent', 'Premise_Code', 'Weapon_Used_Code', 'Status']).reset_index(drop=True)\n",
    "        data_features = pd.concat([data_features, onehotencoded_df], axis=1)\n",
    "    \n",
    "    return data_features\n",
    "\n",
    "\n",
    "multilabel_binarizer = MultiLabelBinarizer()\n",
    "multilabel_binarizer.fit(data_features['Modus_Operandi'].fillna('Unknown').apply(lambda x: x.split()))\n",
    "\n",
    "onehot_encoder = OneHotEncoder(sparse=False, handle_unknown='ignore')\n",
    "onehot_encoder.fit(data_features[['Location', 'Area_ID', 'Reporting_District_no', 'Victim_Sex', 'Victim_Descent', 'Premise_Code', 'Weapon_Used_Code', 'Status']])\n",
    "\n"
   ]
  },
  {
   "cell_type": "code",
   "execution_count": 12,
   "id": "588667a9",
   "metadata": {},
   "outputs": [],
   "source": [
    "data_features_transformed = data_features_preprocessor(data_features, multilabel_binarizer, onehot_encoder)"
   ]
  },
  {
   "cell_type": "code",
   "execution_count": 13,
   "id": "1077f886-d2bc-4f52-ad35-128043c54472",
   "metadata": {},
   "outputs": [],
   "source": [
    "X_train, X_val, y_train, y_val = train_test_split(data_features_transformed, data_labels , test_size=0.20, random_state=69)"
   ]
  },
  {
   "cell_type": "code",
   "execution_count": 14,
   "id": "23ef0c01",
   "metadata": {},
   "outputs": [],
   "source": [
    "# current_model = RandomForestClassifier(random_state=69) \n",
    "# current_model = GradientBoostingClassifier()\n",
    "current_model = SVC()\n",
    "\n"
   ]
  },
  {
   "cell_type": "code",
   "execution_count": 15,
   "id": "c4d4d25e-c7ae-4f17-a005-4f0295f8c3d6",
   "metadata": {},
   "outputs": [
    {
     "data": {
      "text/html": [
       "<style>#sk-container-id-3 {color: black;background-color: white;}#sk-container-id-3 pre{padding: 0;}#sk-container-id-3 div.sk-toggleable {background-color: white;}#sk-container-id-3 label.sk-toggleable__label {cursor: pointer;display: block;width: 100%;margin-bottom: 0;padding: 0.3em;box-sizing: border-box;text-align: center;}#sk-container-id-3 label.sk-toggleable__label-arrow:before {content: \"▸\";float: left;margin-right: 0.25em;color: #696969;}#sk-container-id-3 label.sk-toggleable__label-arrow:hover:before {color: black;}#sk-container-id-3 div.sk-estimator:hover label.sk-toggleable__label-arrow:before {color: black;}#sk-container-id-3 div.sk-toggleable__content {max-height: 0;max-width: 0;overflow: hidden;text-align: left;background-color: #f0f8ff;}#sk-container-id-3 div.sk-toggleable__content pre {margin: 0.2em;color: black;border-radius: 0.25em;background-color: #f0f8ff;}#sk-container-id-3 input.sk-toggleable__control:checked~div.sk-toggleable__content {max-height: 200px;max-width: 100%;overflow: auto;}#sk-container-id-3 input.sk-toggleable__control:checked~label.sk-toggleable__label-arrow:before {content: \"▾\";}#sk-container-id-3 div.sk-estimator input.sk-toggleable__control:checked~label.sk-toggleable__label {background-color: #d4ebff;}#sk-container-id-3 div.sk-label input.sk-toggleable__control:checked~label.sk-toggleable__label {background-color: #d4ebff;}#sk-container-id-3 input.sk-hidden--visually {border: 0;clip: rect(1px 1px 1px 1px);clip: rect(1px, 1px, 1px, 1px);height: 1px;margin: -1px;overflow: hidden;padding: 0;position: absolute;width: 1px;}#sk-container-id-3 div.sk-estimator {font-family: monospace;background-color: #f0f8ff;border: 1px dotted black;border-radius: 0.25em;box-sizing: border-box;margin-bottom: 0.5em;}#sk-container-id-3 div.sk-estimator:hover {background-color: #d4ebff;}#sk-container-id-3 div.sk-parallel-item::after {content: \"\";width: 100%;border-bottom: 1px solid gray;flex-grow: 1;}#sk-container-id-3 div.sk-label:hover label.sk-toggleable__label {background-color: #d4ebff;}#sk-container-id-3 div.sk-serial::before {content: \"\";position: absolute;border-left: 1px solid gray;box-sizing: border-box;top: 0;bottom: 0;left: 50%;z-index: 0;}#sk-container-id-3 div.sk-serial {display: flex;flex-direction: column;align-items: center;background-color: white;padding-right: 0.2em;padding-left: 0.2em;position: relative;}#sk-container-id-3 div.sk-item {position: relative;z-index: 1;}#sk-container-id-3 div.sk-parallel {display: flex;align-items: stretch;justify-content: center;background-color: white;position: relative;}#sk-container-id-3 div.sk-item::before, #sk-container-id-3 div.sk-parallel-item::before {content: \"\";position: absolute;border-left: 1px solid gray;box-sizing: border-box;top: 0;bottom: 0;left: 50%;z-index: -1;}#sk-container-id-3 div.sk-parallel-item {display: flex;flex-direction: column;z-index: 1;position: relative;background-color: white;}#sk-container-id-3 div.sk-parallel-item:first-child::after {align-self: flex-end;width: 50%;}#sk-container-id-3 div.sk-parallel-item:last-child::after {align-self: flex-start;width: 50%;}#sk-container-id-3 div.sk-parallel-item:only-child::after {width: 0;}#sk-container-id-3 div.sk-dashed-wrapped {border: 1px dashed gray;margin: 0 0.4em 0.5em 0.4em;box-sizing: border-box;padding-bottom: 0.4em;background-color: white;}#sk-container-id-3 div.sk-label label {font-family: monospace;font-weight: bold;display: inline-block;line-height: 1.2em;}#sk-container-id-3 div.sk-label-container {text-align: center;}#sk-container-id-3 div.sk-container {/* jupyter's `normalize.less` sets `[hidden] { display: none; }` but bootstrap.min.css set `[hidden] { display: none !important; }` so we also need the `!important` here to be able to override the default hidden behavior on the sphinx rendered scikit-learn.org. See: https://github.com/scikit-learn/scikit-learn/issues/21755 */display: inline-block !important;position: relative;}#sk-container-id-3 div.sk-text-repr-fallback {display: none;}</style><div id=\"sk-container-id-3\" class=\"sk-top-container\"><div class=\"sk-text-repr-fallback\"><pre>SVC()</pre><b>In a Jupyter environment, please rerun this cell to show the HTML representation or trust the notebook. <br />On GitHub, the HTML representation is unable to render, please try loading this page with nbviewer.org.</b></div><div class=\"sk-container\" hidden><div class=\"sk-item\"><div class=\"sk-estimator sk-toggleable\"><input class=\"sk-toggleable__control sk-hidden--visually\" id=\"sk-estimator-id-3\" type=\"checkbox\" checked><label for=\"sk-estimator-id-3\" class=\"sk-toggleable__label sk-toggleable__label-arrow\">SVC</label><div class=\"sk-toggleable__content\"><pre>SVC()</pre></div></div></div></div></div>"
      ],
      "text/plain": [
       "SVC()"
      ]
     },
     "execution_count": 15,
     "metadata": {},
     "output_type": "execute_result"
    }
   ],
   "source": [
    "current_model.fit(X_train, y_train)"
   ]
  },
  {
   "cell_type": "code",
   "execution_count": 16,
   "id": "82b25707-6974-40b9-b45a-002b3f6f31f2",
   "metadata": {},
   "outputs": [],
   "source": [
    "y_pred = current_model.predict(X_val)"
   ]
  },
  {
   "cell_type": "code",
   "execution_count": 17,
   "id": "18b4a168-120e-44f3-94ea-7c44bf7044ca",
   "metadata": {},
   "outputs": [
    {
     "name": "stdout",
     "output_type": "stream",
     "text": [
      "Accuracy: 0.589\n"
     ]
    }
   ],
   "source": [
    "accuracy = accuracy_score(y_val, y_pred)\n",
    "print(f'Accuracy: {accuracy:.3f}')"
   ]
  },
  {
   "cell_type": "code",
   "execution_count": 18,
   "id": "121d1b36",
   "metadata": {},
   "outputs": [
    {
     "name": "stderr",
     "output_type": "stream",
     "text": [
      "/opt/anaconda3/lib/python3.11/site-packages/sklearn/preprocessing/_label.py:895: UserWarning: unknown class(es) ['0218', '0306', '0320', '0393', '0403', '0518', '0540', '0854', '1011', '1231', '1255', '1314', '2026', '2043', '2044', '2208', '2308', '3030'] will be ignored\n",
      "  warnings.warn(\n"
     ]
    }
   ],
   "source": [
    "\n",
    "test_data_preprocessed = data_features_preprocessor(test_data, multilabel_binarizer, onehot_encoder)"
   ]
  },
  {
   "cell_type": "code",
   "execution_count": 19,
   "id": "b0f5e8c7",
   "metadata": {},
   "outputs": [],
   "source": [
    "kaggle_y_predict = current_model.predict(test_data_preprocessed)"
   ]
  },
  {
   "cell_type": "markdown",
   "id": "4512bcbe",
   "metadata": {},
   "source": [
    "Random forest Classifier :  \n",
    "evaluation score = 91.9%   \n",
    "test score = 91.6%\n",
    "\n",
    "\n",
    "Gradient Boosting Classifier :  \n",
    "evaluation score = 93.8%  \n",
    "test score = 93.3%  \n",
    "\n",
    "\n",
    "SVC Classifier :  \n",
    "evaluation score =  58.9%    \n",
    "\n",
    "\n"
   ]
  }
 ],
 "metadata": {
  "kernelspec": {
   "display_name": "Python 3 (ipykernel)",
   "language": "python",
   "name": "python3"
  },
  "language_info": {
   "codemirror_mode": {
    "name": "ipython",
    "version": 3
   },
   "file_extension": ".py",
   "mimetype": "text/x-python",
   "name": "python",
   "nbconvert_exporter": "python",
   "pygments_lexer": "ipython3",
   "version": "3.11.7"
  }
 },
 "nbformat": 4,
 "nbformat_minor": 5
}
