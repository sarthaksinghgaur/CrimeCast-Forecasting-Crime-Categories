{
 "cells": [
  {
   "cell_type": "code",
   "execution_count": 13,
   "id": "a076e5bc",
   "metadata": {},
   "outputs": [],
   "source": [
    "import pandas as pd\n",
    "import numpy as np\n",
    "import seaborn as sns\n",
    "import matplotlib as plt\n",
    "from sklearn.model_selection import StratifiedShuffleSplit\n",
    "from sklearn.impute import SimpleImputer\n",
    "from sklearn.preprocessing import MultiLabelBinarizer\n",
    "from sklearn.preprocessing import OneHotEncoder\n",
    "from sklearn.feature_extraction.text import TfidfVectorizer\n",
    "from sklearn.compose import ColumnTransformer\n",
    "from sklearn.model_selection import train_test_split\n",
    "from sklearn.model_selection import train_test_split\n",
    "from sklearn.ensemble import RandomForestClassifier\n",
    "from sklearn.metrics import accuracy_score\n",
    "from sklearn.pipeline import Pipeline"
   ]
  },
  {
   "cell_type": "code",
   "execution_count": 14,
   "id": "dc2aac2e",
   "metadata": {},
   "outputs": [],
   "source": [
    "data = pd.read_csv('/Users/sarthaksinghgaur/iitm study/MLPp/train.csv')\n",
    "test_data = pd.read_csv('/Users/sarthaksinghgaur/iitm study/MLPp/test.csv')"
   ]
  },
  {
   "cell_type": "code",
   "execution_count": 15,
   "id": "dab20f3c",
   "metadata": {},
   "outputs": [],
   "source": [
    "data_features = data.drop(\"Crime_Category\", axis=1)\n",
    "data_labels = data['Crime_Category'].copy()"
   ]
  },
  {
   "cell_type": "code",
   "execution_count": 16,
   "id": "641c159a-80b1-4719-a7fd-793ae412aac4",
   "metadata": {},
   "outputs": [],
   "source": [
    "data_features.Victim_Age = data_features.Victim_Age.apply(lambda x: np.nan if x<0 else x)"
   ]
  },
  {
   "cell_type": "code",
   "execution_count": 17,
   "id": "11a6a465-88a4-44fd-8c9e-bf095e600fa6",
   "metadata": {},
   "outputs": [],
   "source": [
    "data_features.Victim_Sex = data_features.Victim_Sex.apply(lambda x: np.nan if x not in [\"M\",\"F\",\"X\"] else x)"
   ]
  },
  {
   "cell_type": "code",
   "execution_count": 18,
   "id": "ecbac11b-4abb-4e00-a888-c1245fd722f7",
   "metadata": {},
   "outputs": [],
   "source": [
    "data_features.Date_Reported = pd.to_datetime(data_features.Date_Reported, format = '%m/%d/%Y %I:%M:%S %p')\n",
    "data_features.Date_Occurred = pd.to_datetime(data_features.Date_Occurred, format = '%m/%d/%Y %I:%M:%S %p')"
   ]
  },
  {
   "cell_type": "code",
   "execution_count": 19,
   "id": "89beb970-d6d1-4d8c-b8ef-3d9a4f47712e",
   "metadata": {},
   "outputs": [],
   "source": [
    "data_features['Reported_Year'] = data_features.Date_Reported.dt.year\n",
    "data_features['Reported_Month'] = data_features.Date_Reported.dt.month\n",
    "data_features['Reported_Day'] = data_features.Date_Reported.dt.day\n",
    "data_features['Reported_DayOfWeek'] = data_features.Date_Reported.dt.dayofweek\n",
    "\n",
    "data_features['Occurred_Year'] = data_features.Date_Occurred.dt.year\n",
    "data_features['Occurred_Month'] = data_features.Date_Occurred.dt.month\n",
    "data_features['Occurred_Day'] = data_features.Date_Occurred.dt.day\n",
    "data_features['Occurred_DayOfWeek'] = data_features.Date_Occurred.dt.dayofweek"
   ]
  },
  {
   "cell_type": "code",
   "execution_count": 20,
   "id": "6ac90ed1-fcca-4c70-9b86-abd5e12f514c",
   "metadata": {},
   "outputs": [],
   "source": [
    "data_features.Time_Occurred = data_features.Time_Occurred.astype(int).astype(str).str.zfill(4)\n",
    "data_features['Occurred_Hour'] = data_features.Time_Occurred.str.slice(0,2).astype(int)\n",
    "data_features['Occurred_Minute'] = data_features.Time_Occurred.str.slice(2,4).astype(int)"
   ]
  },
  {
   "cell_type": "code",
   "execution_count": 29,
   "id": "013b74c6-bb66-4201-90c8-4a70634fa51e",
   "metadata": {},
   "outputs": [],
   "source": [
    "data_features.drop(columns=['Cross_Street','Date_Reported','Date_Occurred','Time_Occurred','Area_Name','Status_Description','Premise_Description','Weapon_Description'],inplace = True)"
   ]
  },
  {
   "cell_type": "code",
   "execution_count": 31,
   "id": "4686f288-4d24-4818-8786-27cd9584b61f",
   "metadata": {},
   "outputs": [],
   "source": [
    "data_features.Weapon_Used_Code = data_features.Weapon_Used_Code.astype(str)\n",
    "data_features.Weapon_Used_Code.replace('nan', np.nan, inplace=True)"
   ]
  },
  {
   "cell_type": "code",
   "execution_count": 33,
   "id": "e66ec4ee-28d6-486b-805d-1500b7777a69",
   "metadata": {},
   "outputs": [],
   "source": [
    "imputer_constant = SimpleImputer(strategy = 'constant', fill_value = 'Unknown')\n",
    "imputer_mode = SimpleImputer(strategy = 'most_frequent')"
   ]
  },
  {
   "cell_type": "code",
   "execution_count": 35,
   "id": "d274438f-f41e-4cc3-9dbe-a8d066af900e",
   "metadata": {},
   "outputs": [],
   "source": [
    "imputer_constant_columns = ['Modus_Operandi','Weapon_Used_Code','Victim_Sex','Victim_Descent']\n",
    "imputer_mode_columns = ['Victim_Age']"
   ]
  },
  {
   "cell_type": "code",
   "execution_count": 37,
   "id": "83c4dba8-d2d0-4496-9a74-0d0cd1d8c305",
   "metadata": {},
   "outputs": [],
   "source": [
    "for current_column in imputer_constant_columns:\n",
    "    data_features[[current_column]]=imputer_constant.fit_transform(data_features[[current_column]])\n",
    "for current_column in imputer_mode_columns:\n",
    "    data_features[[current_column]]=imputer_mode.fit_transform(data_features[[current_column]])"
   ]
  },
  {
   "cell_type": "code",
   "execution_count": 39,
   "id": "90a0c688-1b29-459f-ac97-96e403c0064e",
   "metadata": {},
   "outputs": [],
   "source": [
    "data_features.Modus_Operandi = data_features.Modus_Operandi.apply(lambda x: x.split())"
   ]
  },
  {
   "cell_type": "code",
   "execution_count": 41,
   "id": "384c0270-1a89-4437-bc5a-ef39c6244636",
   "metadata": {},
   "outputs": [],
   "source": [
    "multilabelbinarizer = MultiLabelBinarizer()\n",
    "binarized_modus_operandi = multilabelbinarizer.fit_transform(data_features['Modus_Operandi'])\n",
    "binarized_modus_operandi_cols = ['Modus_Operandi:' + name for name in multilabelbinarizer.classes_]\n",
    "binarized_modus_operandi_df = pd.DataFrame(binarized_modus_operandi,columns = binarized_modus_operandi_cols)"
   ]
  },
  {
   "cell_type": "code",
   "execution_count": 43,
   "id": "914a02a4-c8d4-4451-9174-30c8f13636ca",
   "metadata": {},
   "outputs": [],
   "source": [
    "data_features = data_features.drop(columns='Modus_Operandi')\n",
    "data_features = data_features.join(binarized_modus_operandi_df)"
   ]
  },
  {
   "cell_type": "code",
   "execution_count": 45,
   "id": "e466f038-3a6a-445d-a818-0dfec2041562",
   "metadata": {},
   "outputs": [],
   "source": [
    "onehotencoded_cols = ['Location','Area_ID','Reporting_District_no','Victim_Sex','Victim_Descent','Premise_Code','Weapon_Used_Code','Status']\n",
    "# tfidf_cols = ['Premise_Description','Weapon_Description']\n",
    "# onehotencoded_cols = []\n",
    "# tfidf_cols = []"
   ]
  },
  {
   "cell_type": "code",
   "execution_count": 47,
   "id": "e89b9f38-0d4e-4c5a-bb2d-dcd97d781e14",
   "metadata": {},
   "outputs": [
    {
     "name": "stderr",
     "output_type": "stream",
     "text": [
      "/opt/anaconda3/lib/python3.11/site-packages/sklearn/preprocessing/_encoders.py:868: FutureWarning: `sparse` was renamed to `sparse_output` in version 1.2 and will be removed in 1.4. `sparse_output` is ignored unless you leave `sparse` to its default value.\n",
      "  warnings.warn(\n"
     ]
    }
   ],
   "source": [
    "column_transformer = ColumnTransformer(\n",
    "    transformers=[('onehotencoder', OneHotEncoder(sparse=False), onehotencoded_cols)]\n",
    "                  ,remainder='passthrough'\n",
    ")\n",
    "data_features_transformed = column_transformer.fit_transform(data_features)\n",
    "data_features_transformed = pd.DataFrame(data_features_transformed)"
   ]
  },
  {
   "cell_type": "code",
   "execution_count": 49,
   "id": "2fd18067-78b0-4b14-be1b-c2e6446eb75e",
   "metadata": {},
   "outputs": [],
   "source": [
    "# sns.set()\n",
    "# data.Crime_Category.hist()"
   ]
  },
  {
   "cell_type": "code",
   "execution_count": 51,
   "id": "22f4af48-e7a1-4689-8b5d-3981e17333c9",
   "metadata": {},
   "outputs": [],
   "source": [
    "# split = StratifiedShuffleSplit(n_splits = 1, test_size = 0.2, random_state = 69)\n",
    "# for train_index, test_index in split.split(data_features_transformed, data_labels):\n",
    "#   train_data = data_features_transformed.loc[train_index]\n",
    "#   test_data = data_features_transformed.loc[test_index]\n",
    "# print(train_data.shape, test_data.shape)"
   ]
  },
  {
   "cell_type": "code",
   "execution_count": 53,
   "id": "da063d4b-bd46-414e-8e0c-3f5175ab2505",
   "metadata": {},
   "outputs": [],
   "source": [
    "# strat_dist = test_data[\"Crime_Category\"].value_counts() / len(test_data)\n",
    "# overall_dist = data[\"Crime_Category\"].value_counts() / len(data)\n",
    "# dist_comparison = pd.DataFrame({'overall': overall_dist, 'stratified': strat_dist})\n",
    "# dist_comparison['diff(s-o)'] = dist_comparison['stratified'] - dist_comparison['overall']\n",
    "# dist_comparison['diff(s-o)_pct'] = 100*(dist_comparison['diff(s-o)']/dist_comparison['overall'])\n",
    "# dist_comparison"
   ]
  },
  {
   "cell_type": "code",
   "execution_count": 55,
   "id": "1077f886-d2bc-4f52-ad35-128043c54472",
   "metadata": {},
   "outputs": [],
   "source": [
    "X_train, X_val, y_train, y_val = train_test_split(data_features_transformed, data_labels , test_size=0.20, random_state=69)"
   ]
  },
  {
   "cell_type": "code",
   "execution_count": 58,
   "id": "c4d4d25e-c7ae-4f17-a005-4f0295f8c3d6",
   "metadata": {},
   "outputs": [
    {
     "data": {
      "text/html": [
       "<style>#sk-container-id-2 {color: black;background-color: white;}#sk-container-id-2 pre{padding: 0;}#sk-container-id-2 div.sk-toggleable {background-color: white;}#sk-container-id-2 label.sk-toggleable__label {cursor: pointer;display: block;width: 100%;margin-bottom: 0;padding: 0.3em;box-sizing: border-box;text-align: center;}#sk-container-id-2 label.sk-toggleable__label-arrow:before {content: \"▸\";float: left;margin-right: 0.25em;color: #696969;}#sk-container-id-2 label.sk-toggleable__label-arrow:hover:before {color: black;}#sk-container-id-2 div.sk-estimator:hover label.sk-toggleable__label-arrow:before {color: black;}#sk-container-id-2 div.sk-toggleable__content {max-height: 0;max-width: 0;overflow: hidden;text-align: left;background-color: #f0f8ff;}#sk-container-id-2 div.sk-toggleable__content pre {margin: 0.2em;color: black;border-radius: 0.25em;background-color: #f0f8ff;}#sk-container-id-2 input.sk-toggleable__control:checked~div.sk-toggleable__content {max-height: 200px;max-width: 100%;overflow: auto;}#sk-container-id-2 input.sk-toggleable__control:checked~label.sk-toggleable__label-arrow:before {content: \"▾\";}#sk-container-id-2 div.sk-estimator input.sk-toggleable__control:checked~label.sk-toggleable__label {background-color: #d4ebff;}#sk-container-id-2 div.sk-label input.sk-toggleable__control:checked~label.sk-toggleable__label {background-color: #d4ebff;}#sk-container-id-2 input.sk-hidden--visually {border: 0;clip: rect(1px 1px 1px 1px);clip: rect(1px, 1px, 1px, 1px);height: 1px;margin: -1px;overflow: hidden;padding: 0;position: absolute;width: 1px;}#sk-container-id-2 div.sk-estimator {font-family: monospace;background-color: #f0f8ff;border: 1px dotted black;border-radius: 0.25em;box-sizing: border-box;margin-bottom: 0.5em;}#sk-container-id-2 div.sk-estimator:hover {background-color: #d4ebff;}#sk-container-id-2 div.sk-parallel-item::after {content: \"\";width: 100%;border-bottom: 1px solid gray;flex-grow: 1;}#sk-container-id-2 div.sk-label:hover label.sk-toggleable__label {background-color: #d4ebff;}#sk-container-id-2 div.sk-serial::before {content: \"\";position: absolute;border-left: 1px solid gray;box-sizing: border-box;top: 0;bottom: 0;left: 50%;z-index: 0;}#sk-container-id-2 div.sk-serial {display: flex;flex-direction: column;align-items: center;background-color: white;padding-right: 0.2em;padding-left: 0.2em;position: relative;}#sk-container-id-2 div.sk-item {position: relative;z-index: 1;}#sk-container-id-2 div.sk-parallel {display: flex;align-items: stretch;justify-content: center;background-color: white;position: relative;}#sk-container-id-2 div.sk-item::before, #sk-container-id-2 div.sk-parallel-item::before {content: \"\";position: absolute;border-left: 1px solid gray;box-sizing: border-box;top: 0;bottom: 0;left: 50%;z-index: -1;}#sk-container-id-2 div.sk-parallel-item {display: flex;flex-direction: column;z-index: 1;position: relative;background-color: white;}#sk-container-id-2 div.sk-parallel-item:first-child::after {align-self: flex-end;width: 50%;}#sk-container-id-2 div.sk-parallel-item:last-child::after {align-self: flex-start;width: 50%;}#sk-container-id-2 div.sk-parallel-item:only-child::after {width: 0;}#sk-container-id-2 div.sk-dashed-wrapped {border: 1px dashed gray;margin: 0 0.4em 0.5em 0.4em;box-sizing: border-box;padding-bottom: 0.4em;background-color: white;}#sk-container-id-2 div.sk-label label {font-family: monospace;font-weight: bold;display: inline-block;line-height: 1.2em;}#sk-container-id-2 div.sk-label-container {text-align: center;}#sk-container-id-2 div.sk-container {/* jupyter's `normalize.less` sets `[hidden] { display: none; }` but bootstrap.min.css set `[hidden] { display: none !important; }` so we also need the `!important` here to be able to override the default hidden behavior on the sphinx rendered scikit-learn.org. See: https://github.com/scikit-learn/scikit-learn/issues/21755 */display: inline-block !important;position: relative;}#sk-container-id-2 div.sk-text-repr-fallback {display: none;}</style><div id=\"sk-container-id-2\" class=\"sk-top-container\"><div class=\"sk-text-repr-fallback\"><pre>RandomForestClassifier(random_state=69)</pre><b>In a Jupyter environment, please rerun this cell to show the HTML representation or trust the notebook. <br />On GitHub, the HTML representation is unable to render, please try loading this page with nbviewer.org.</b></div><div class=\"sk-container\" hidden><div class=\"sk-item\"><div class=\"sk-estimator sk-toggleable\"><input class=\"sk-toggleable__control sk-hidden--visually\" id=\"sk-estimator-id-2\" type=\"checkbox\" checked><label for=\"sk-estimator-id-2\" class=\"sk-toggleable__label sk-toggleable__label-arrow\">RandomForestClassifier</label><div class=\"sk-toggleable__content\"><pre>RandomForestClassifier(random_state=69)</pre></div></div></div></div></div>"
      ],
      "text/plain": [
       "RandomForestClassifier(random_state=69)"
      ]
     },
     "execution_count": 58,
     "metadata": {},
     "output_type": "execute_result"
    }
   ],
   "source": [
    "randomforestclassifier = RandomForestClassifier(random_state=69)\n",
    "randomforestclassifier.fit(X_train, y_train)"
   ]
  },
  {
   "cell_type": "code",
   "execution_count": 59,
   "id": "82b25707-6974-40b9-b45a-002b3f6f31f2",
   "metadata": {},
   "outputs": [],
   "source": [
    "y_pred = randomforestclassifier.predict(X_val)"
   ]
  },
  {
   "cell_type": "code",
   "execution_count": 60,
   "id": "18b4a168-120e-44f3-94ea-7c44bf7044ca",
   "metadata": {},
   "outputs": [
    {
     "name": "stdout",
     "output_type": "stream",
     "text": [
      "Accuracy: 0.93\n"
     ]
    }
   ],
   "source": [
    "accuracy = accuracy_score(y_val, y_pred)\n",
    "print(f'Accuracy: {accuracy:.2f}')"
   ]
  },
  {
   "cell_type": "code",
   "execution_count": null,
   "id": "2110f0bb-b20b-43b0-95c7-d6e772f539bb",
   "metadata": {},
   "outputs": [],
   "source": []
  }
 ],
 "metadata": {
  "kernelspec": {
   "display_name": "Python 3 (ipykernel)",
   "language": "python",
   "name": "python3"
  },
  "language_info": {
   "codemirror_mode": {
    "name": "ipython",
    "version": 3
   },
   "file_extension": ".py",
   "mimetype": "text/x-python",
   "name": "python",
   "nbconvert_exporter": "python",
   "pygments_lexer": "ipython3",
   "version": "3.11.7"
  }
 },
 "nbformat": 4,
 "nbformat_minor": 5
}
